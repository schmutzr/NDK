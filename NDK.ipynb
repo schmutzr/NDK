{
 "cells": [
  {
   "cell_type": "markdown",
   "metadata": {},
   "source": [
    "### Shannon-Hartley Theorem ~1940\n",
    "\n",
    "$C = W \\cdot \\log_2(1+\\frac{S}{N})$\n",
    "\n",
    "C: achievable bit-rate\n",
    "\n",
    "W: bandwith in Hz\n",
    "S: Signal strength in W\n",
    "N: Noise strength in W\n",
    "\n",
    "SNR: Signal to Noise Ratio in dB\n",
    "\n",
    "dB = $10 \\cdot \\log\\frac{S}{N}$\n",
    "\n",
    "dB is used as a *ratio* in telecommunications because line attenuation (or amplification) can simply be calculated by adding the dB ratios together (rather than multiplying the actual ratios)\n",
    "\n",
    "Note: the noise characteristic is assumed to be \"gaussian\" (multitude of additive noise signals will lead to a gaussian distribution). This can be assumed for most of our basic understanding.\n",
    "\n",
    "NB2: these calculations are upper-bound theoretical limits for bi-valent (two-level) data transmission over noisy channels.\n",
    "\n",
    "An analog PSTN (old analogue telephone network) has a bandwidth of 3kHz and a typical attenuation of 20dB.\n",
    "\n",
    "My current (lousy) WLAN connection has a bandwidth of 40MHz (channel bandwidth) an a signal strenght of -79dB, noise at 86dB, thus the SNR is 7dB (the difference) -- see how dB's are handy?"
   ]
  },
  {
   "cell_type": "code",
   "execution_count": 1,
   "metadata": {},
   "outputs": [
    {
     "name": "stdout",
     "output_type": "stream",
     "text": [
      "Analogue PSTN bitrate=19974.634448255383\n",
      "Lousy WLAN bitrate=92658247.18505038\n"
     ]
    }
   ],
   "source": [
    "from math import pow, log2\n",
    "\n",
    "def db(n):\n",
    "    return pow(10, n/10)\n",
    "\n",
    "def shannon_hartley_bitrate(w, snr):\n",
    "    return w * log2(1+db(snr))\n",
    "\n",
    "# an anaolg PSTN (back in the old days of steam engines and such)\n",
    "W = 3E3\n",
    "SNR_db = 20\n",
    "print(\"Analogue PSTN bitrate={}\".format(shannon_hartley_bitrate(W, SNR_db)))\n",
    "\n",
    "# my current WLAN connection\n",
    "W = 40E6\n",
    "SNR_db = 6\n",
    "print(\"Lousy WLAN bitrate={}\".format(shannon_hartley_bitrate(W, SNR_db)))"
   ]
  },
  {
   "cell_type": "markdown",
   "metadata": {},
   "source": [
    "(always calculate approximate values to exceedingly many digits :) )\n",
    "\n",
    "#### Exercises\n",
    "\n",
    "* Calculate the theoretical bitrate of you current WLAN connection (note: the channel-bandwith is (digitaly) divided in up- and down-stream, this calculates the total of both)\n",
    "\n",
    "* Calculate the theoretical bitrate of an Cat-5 Twisted-Pair cable of 30m length. Use this [reference](http://www.cablek.com/technical-reference/cat-5---5e--6--6a---7--8-standards) (attenuation per 100m)\n",
    "\n",
    "* the bitrate of the pioneer-10 probe\n",
    "\n",
    "* the bitrate of an optical (fiber) channel"
   ]
  },
  {
   "cell_type": "markdown",
   "metadata": {},
   "source": [
    "-----------\n",
    "\n",
    "## Redundancy\n",
    "\n",
    "To counter the errors induced by electromagnetic interference a certain amount of \"redundancy\" is\n",
    "introduced in the bit-stream before transmission. The receiver is then able to determind the\n",
    "error-free transmission (detection) or using more complex redundancy schemes to even correct some errors.\n",
    "\n",
    "There goal is to keep this \"redundancy\" at a minimum while still achieve very low error-rates.\n",
    "\n",
    "### Forward-Error-Correction FEC\n",
    "\n",
    "The message to transmit is simply repeated three or more times, enabling the receiver to\n",
    "determine the correct value of each bit by applying a majority evaluation.\n",
    "\n",
    "This is a very crude scheme with a very bad channel-bandwidth (bitrate) efficiency.\n",
    "\n",
    "Still sometimes used in *broadcast* communications (one-to-many transmission) where a single\n",
    "receiver will not be able to request a retransmission. Although more modern schemes are used\n",
    "for new developments.\n",
    "\n",
    "### Parity-Bit\n",
    "\n",
    "The goal of the parity-bit is to detect single bit errors in a bit-string (usually a byte for asynchronous serial transfers by RS-232)\n",
    "\n",
    "The \"parity\" can be defined as. Like in all protocols the sender and receiver must\n",
    "agree on the setting before a transmission can take place (either by negotiation\n",
    "in more complex schemes or by simple setting it manually):\n",
    "\n",
    "* odd: the parity-bit is set by the sender to achieve an odd number of \"1\" bits\n",
    "\n",
    "* even: the parity-bit is set to make the number of \"1\" bits even\n",
    "\n",
    "The receiver counts the \"1\" bits (including the parity bit) and determines if\n",
    "the transmission was error-free by comparing the \"evenness\" or \"oddness\" of\n",
    "bits. Actual implementation in software does not \"count\" bits but apply a\n",
    "bitwise XOR operation accross all bits (see below).\n",
    "\n",
    "This simple scheme can only detect single-bit errors -- there is no error correction possible.\n",
    "\n",
    "### Hamming-Codes\n",
    "\n",
    "Links:\n",
    "* [phantastic video (part 1)](https://www.youtube.com/watch?v=b3NxrZOu_CE)\n",
    "\n",
    "### Code-Tables with large Hamming-Distances\n",
    "\n",
    "### Modern Codes\n",
    "\n",
    "* Reed-Solomon\n",
    "* Turbo-Codes\n",
    "\n",
    "### Cyclic-Redundany-Check CRC\n",
    "\n",
    "* Fixed-size polynom calculation\n",
    "* Fair error-detection (CRC-32 undetected error rate (BER) about $2.3\\cdot10^{-10}$)\n",
    "* no error correction\n",
    "* used universally, eg in Ethernet\n",
    "\n",
    "Links:\n",
    "* [MIT](http://web.mit.edu/16.682/www/leca.pdf)\n",
    "* [IEEE RFC3385](https://www.ietf.org/rfc/rfc3385.txt)\n",
    "* [IEEE 802.3](https://www.ieee802.org/3/bv/public/Jan_2015/perezaranda_3bv_2_0115.pdf)"
   ]
  },
  {
   "cell_type": "code",
   "execution_count": 9,
   "metadata": {},
   "outputs": [
    {
     "name": "stdout",
     "output_type": "stream",
     "text": [
      "00000111\n"
     ]
    },
    {
     "data": {
      "text/plain": [
       "'000001111'"
      ]
     },
     "execution_count": 9,
     "metadata": {},
     "output_type": "execute_result"
    }
   ],
   "source": [
    "### Parity-Bit\n",
    "\n",
    "from functools import reduce\n",
    "\n",
    "# this implementation is using strings (actually list of characters) -- not the most efficient way :)\n",
    "def to_binary_byte(n):\n",
    "    return \"{0:08b}\".format(n)\n",
    "\n",
    "def parity(b):\n",
    "    return str(reduce(lambda x,y: int(x)^int(y), list(b))) # in python \"^\" denotes the XOR operator\n",
    "\n",
    "parity(to_binary_byte(15))\n",
    "\n",
    "def add_byte_parity(b, par='odd'):\n",
    "    p = parity(b)\n",
    "    if par=='odd' and p=='0':\n",
    "        p = '1'\n",
    "    elif par=='even' and p=='1':\n",
    "        p = '0'\n",
    "    return b+p\n",
    "\n",
    "# add_parity(to_binary_byte(7))\n",
    "\n",
    "def check_byte_parity(b, par='odd'):\n",
    "    byte = b[:-1]\n",
    "    p_bit = b[-1]\n",
    "    p_calc = parity(byte)\n",
    "    return (par=='odd' and )\n",
    "    "
   ]
  },
  {
   "cell_type": "code",
   "execution_count": 74,
   "metadata": {},
   "outputs": [
    {
     "name": "stdout",
     "output_type": "stream",
     "text": [
      "00101010\n",
      "0010101\n",
      "0\n",
      "1\n"
     ]
    }
   ],
   "source": [
    "a=to_binary_byte(42)\n",
    "print(a)\n",
    "print(a[:-1])\n",
    "print(a[-1])\n",
    "print(parity(a))"
   ]
  },
  {
   "cell_type": "markdown",
   "metadata": {},
   "source": [
    "### BER -- Bit-Error-Rate\n",
    "\n",
    "#### BER-Generator\n"
   ]
  },
  {
   "cell_type": "code",
   "execution_count": 68,
   "metadata": {},
   "outputs": [
    {
     "name": "stdout",
     "output_type": "stream",
     "text": [
      "differ:\n",
      "00101010\n",
      "01101010\n"
     ]
    }
   ],
   "source": [
    "from random import random\n",
    "\n",
    "def ber_induce(b, err_rate=1e-3):\n",
    "    return \"\".join([ str(int(not int(bit))) if random() < err_rate else bit for bit in b ])\n",
    "\n",
    "a = to_binary_byte(42) # [ to_binary_byte(n) for n in range(0,255) ]\n",
    "b = ber_induce(a, 0.1)\n",
    "a = \"\".join(a)\n",
    "\n",
    "print(\"{}:\\n{}\\n{}\".format(\"same\" if a==b else \"differ\", a, b))"
   ]
  }
 ],
 "metadata": {
  "kernelspec": {
   "display_name": "Python 3",
   "language": "python",
   "name": "python3"
  },
  "language_info": {
   "codemirror_mode": {
    "name": "ipython",
    "version": 3
   },
   "file_extension": ".py",
   "mimetype": "text/x-python",
   "name": "python",
   "nbconvert_exporter": "python",
   "pygments_lexer": "ipython3",
   "version": "3.6.4"
  }
 },
 "nbformat": 4,
 "nbformat_minor": 2
}
